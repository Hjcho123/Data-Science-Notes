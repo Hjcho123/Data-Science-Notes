{
 "cells": [
  {
   "cell_type": "markdown",
   "id": "dca0b30a-2076-49c0-a543-4e6878458df0",
   "metadata": {},
   "source": [
    "# Python Basics\n",
    "#### I. Functions\n",
    "- Functions are defined using the `def` keyword.\n",
    "- give the function `def` a name, such as `add_numbers` and then specify the __input variables__ within the `()` symbol.\n",
    "- Python allows for __default values__ to be passed for function variables in case none are passed. \n",
    "- For example, by adding the keyword `None`, we essentially allow the function to allow no input for the input varaible set to `None`, and only accept input when there is a value passed through. *Note that `None` itself is just a data type, similar to `string`, `bool`, and more. Its just that that by setting a variable to `None`, we are essentially allowing that variable to take the form of a \"null\" variable in the case that it isnt passed*.\n",
    "- This also means that variables with default values must come at the end of the function statement. \n",
    "- See the below example:"
   ]
  },
  {
   "cell_type": "code",
   "execution_count": 70,
   "id": "0dbbfb5d-2f29-49ab-b67f-07d23f65d8b3",
   "metadata": {},
   "outputs": [
    {
     "name": "stdout",
     "output_type": "stream",
     "text": [
      "62\n",
      "71\n"
     ]
    }
   ],
   "source": [
    "a = 50\n",
    "b = 12\n",
    "c = 9\n",
    "\n",
    "def add_numbers(x,y,z=None):\n",
    "    if (z == None):\n",
    "        return x+y\n",
    "    else:\n",
    "        return x+y+z\n",
    "print(add_numbers(a,b))   \n",
    "print(add_numbers(a,b,c))"
   ]
  },
  {
   "cell_type": "markdown",
   "id": "75e082aa-4c64-4cb5-bb92-0a0253d471ca",
   "metadata": {},
   "source": [
    "In the below example, we modify `add_numbers` to take in an optional flag parameter."
   ]
  },
  {
   "cell_type": "code",
   "execution_count": 72,
   "id": "3b94ab93-4751-4255-836f-9fa548c988bf",
   "metadata": {},
   "outputs": [
    {
     "name": "stdout",
     "output_type": "stream",
     "text": [
      "Flag is true!\n",
      "3\n"
     ]
    }
   ],
   "source": [
    "def add_numbers(x, y, z=None, flag=False):\n",
    "    if (flag): \n",
    "        print('Flag is true!')\n",
    "    if (z == None):\n",
    "        return x + y\n",
    "    else:\n",
    "        return x + y + z\n",
    "\n",
    "\n",
    "print(add_numbers(1, 2, flag=True) )"
   ]
  },
  {
   "cell_type": "markdown",
   "id": "87326d69-5b21-40d5-885a-397eb48229b0",
   "metadata": {},
   "source": [
    "__Notes on the above:__\n",
    " - Stating just `flag` is like saying `flag==true`\n",
    " - Because we explicitly pass in the variable `flag` it overrides the order of variables. Thus `z` still defaults to `None`.\n",
    "\n",
    "\n"
   ]
  },
  {
   "cell_type": "markdown",
   "id": "57e22dbd-db1b-49ee-ba51-be51249f234b",
   "metadata": {},
   "source": [
    "Finally, we can assign variables as functions. For example:"
   ]
  },
  {
   "cell_type": "code",
   "execution_count": 75,
   "id": "d9892582-0529-4637-ad92-980f5534a7d0",
   "metadata": {},
   "outputs": [
    {
     "data": {
      "text/plain": [
       "3"
      ]
     },
     "execution_count": 75,
     "metadata": {},
     "output_type": "execute_result"
    }
   ],
   "source": [
    "a=add_numbers\n",
    "a(1,2)"
   ]
  },
  {
   "cell_type": "markdown",
   "id": "27923225-52d9-45df-9bd9-018b816573d1",
   "metadata": {},
   "source": [
    "As shown in the code above, we can define functions as variables, allowing for basic *functional programming*."
   ]
  },
  {
   "cell_type": "markdown",
   "id": "b9f30c04-ebe0-4189-bd30-fa5c0cbc6f47",
   "metadata": {},
   "source": [
    "#### II. Types and Sequences"
   ]
  },
  {
   "cell_type": "code",
   "execution_count": null,
   "id": "236db2d3-447a-4d85-a121-fe26a2e90046",
   "metadata": {},
   "outputs": [],
   "source": []
  }
 ],
 "metadata": {
  "kernelspec": {
   "display_name": "Python [conda env:base] *",
   "language": "python",
   "name": "conda-base-py"
  },
  "language_info": {
   "codemirror_mode": {
    "name": "ipython",
    "version": 3
   },
   "file_extension": ".py",
   "mimetype": "text/x-python",
   "name": "python",
   "nbconvert_exporter": "python",
   "pygments_lexer": "ipython3",
   "version": "3.12.2"
  }
 },
 "nbformat": 4,
 "nbformat_minor": 5
}
