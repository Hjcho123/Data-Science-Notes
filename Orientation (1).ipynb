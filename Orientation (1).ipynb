{
 "cells": [
  {
   "cell_type": "markdown",
   "id": "fe01d2d4-b9bd-4b72-8985-0a52de17cf67",
   "metadata": {},
   "source": [
    "# Intro to Portfolio Construction and Analysis with Python\n",
    "#### Fundamentals of Returns\n",
    "- Average Return $\\not=$ actual money generated. "
   ]
  },
  {
   "cell_type": "code",
   "execution_count": null,
   "id": "f7952f32-4f3e-422c-86c1-a22d55a6664f",
   "metadata": {},
   "outputs": [],
   "source": [
    "x= False\n"
   ]
  }
 ],
 "metadata": {
  "kernelspec": {
   "display_name": "Python [conda env:base] *",
   "language": "python",
   "name": "conda-base-py"
  },
  "language_info": {
   "codemirror_mode": {
    "name": "ipython",
    "version": 3
   },
   "file_extension": ".py",
   "mimetype": "text/x-python",
   "name": "python",
   "nbconvert_exporter": "python",
   "pygments_lexer": "ipython3",
   "version": "3.12.2"
  }
 },
 "nbformat": 4,
 "nbformat_minor": 5
}
