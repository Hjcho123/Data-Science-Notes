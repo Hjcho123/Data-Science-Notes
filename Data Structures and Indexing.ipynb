{
 "cells": [
  {
   "cell_type": "markdown",
   "id": "44b7c489-66c6-49b1-b554-6fa2976cf6c7",
   "metadata": {},
   "source": [
    "# Data Structures and Indexing"
   ]
  },
  {
   "cell_type": "markdown",
   "id": "de0dd751-cc82-4335-a87d-b74ef7643978",
   "metadata": {},
   "source": [
    "#### Key Learning Points:\n",
    "- What are basic pandas data structures?\n",
    "- How do we __index__? i.e gather subsets of data?"
   ]
  },
  {
   "cell_type": "code",
   "execution_count": null,
   "id": "55dff1bc-5f0b-4d19-bf77-03999820401c",
   "metadata": {},
   "outputs": [],
   "source": [
    "import numpy as np\n",
    "import pandas as pd\n"
   ]
  }
 ],
 "metadata": {
  "kernelspec": {
   "display_name": "Python [conda env:base] *",
   "language": "python",
   "name": "conda-base-py"
  },
  "language_info": {
   "codemirror_mode": {
    "name": "ipython",
    "version": 3
   },
   "file_extension": ".py",
   "mimetype": "text/x-python",
   "name": "python",
   "nbconvert_exporter": "python",
   "pygments_lexer": "ipython3",
   "version": "3.12.2"
  }
 },
 "nbformat": 4,
 "nbformat_minor": 5
}
